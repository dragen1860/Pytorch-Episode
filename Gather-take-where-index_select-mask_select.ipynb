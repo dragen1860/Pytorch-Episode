{
 "cells": [
  {
   "cell_type": "code",
   "execution_count": 1,
   "metadata": {
    "collapsed": true
   },
   "outputs": [],
   "source": [
    "import torch\n",
    "import numpy as np\n",
    "a=[[1,2],\n",
    "  [3,4]]\n",
    "b=[[11,22],[33,44]]\n",
    "a=np.array(a)\n",
    "b=np.array(b)"
   ]
  },
  {
   "cell_type": "markdown",
   "metadata": {},
   "source": [
    "# torch.gather(input, dim, index)\n",
    "gathers values along an axis specified by dim.\n",
    "return a tensor with the same size with index"
   ]
  },
  {
   "cell_type": "code",
   "execution_count": 7,
   "metadata": {},
   "outputs": [
    {
     "data": {
      "text/plain": [
       "\n",
       " 1\n",
       " 5\n",
       "[torch.FloatTensor of size 2x1]"
      ]
     },
     "execution_count": 7,
     "metadata": {},
     "output_type": "execute_result"
    }
   ],
   "source": [
    "t=torch.Tensor([[1,2,3],[4,5,6]])\n",
    "torch.gather(t, dim = 1, index = torch.LongTensor([[0],[1]]))"
   ]
  },
  {
   "cell_type": "code",
   "execution_count": 15,
   "metadata": {},
   "outputs": [
    {
     "data": {
      "text/plain": [
       "\n",
       " 1  5  6\n",
       "[torch.FloatTensor of size 1x3]"
      ]
     },
     "execution_count": 15,
     "metadata": {},
     "output_type": "execute_result"
    }
   ],
   "source": [
    "torch.gather(t, dim = 0, index = torch.LongTensor([[0,1,1]]))"
   ]
  },
  {
   "cell_type": "markdown",
   "metadata": {},
   "source": [
    "# torch.index_select(input, dim, index)\n",
    "return a tensor which indxes the input along dim"
   ]
  },
  {
   "cell_type": "code",
   "execution_count": 17,
   "metadata": {},
   "outputs": [
    {
     "data": {
      "text/plain": [
       "\n",
       " 0.2423  0.4973  0.8477  0.7619\n",
       " 0.6910  0.1400  0.3667  0.6864\n",
       " 0.5179  0.7425  0.4841  0.6681\n",
       "[torch.FloatTensor of size 3x4]"
      ]
     },
     "execution_count": 17,
     "metadata": {},
     "output_type": "execute_result"
    }
   ],
   "source": [
    "x=torch.rand(3,4)\n",
    "x"
   ]
  },
  {
   "cell_type": "code",
   "execution_count": 19,
   "metadata": {},
   "outputs": [
    {
     "data": {
      "text/plain": [
       "\n",
       " 0.2423  0.4973  0.8477  0.7619\n",
       " 0.5179  0.7425  0.4841  0.6681\n",
       "[torch.FloatTensor of size 2x4]"
      ]
     },
     "execution_count": 19,
     "metadata": {},
     "output_type": "execute_result"
    }
   ],
   "source": [
    "torch.index_select(x, dim = 0, index = torch.LongTensor([0,2]))"
   ]
  },
  {
   "cell_type": "code",
   "execution_count": 20,
   "metadata": {},
   "outputs": [
    {
     "data": {
      "text/plain": [
       "\n",
       " 0.4973  0.8477\n",
       " 0.1400  0.3667\n",
       " 0.7425  0.4841\n",
       "[torch.FloatTensor of size 3x2]"
      ]
     },
     "execution_count": 20,
     "metadata": {},
     "output_type": "execute_result"
    }
   ],
   "source": [
    "torch.index_select(x, dim = 1, index = torch.LongTensor([1,2]))"
   ]
  },
  {
   "cell_type": "markdown",
   "metadata": {},
   "source": [
    "# torch.take(input, indices)\n",
    "return a tensor with the elements of input at the given indices. the input is treated as 1-d tensor and the index is from 0 - input.numel()\n"
   ]
  },
  {
   "cell_type": "code",
   "execution_count": 22,
   "metadata": {},
   "outputs": [
    {
     "data": {
      "text/plain": [
       "8"
      ]
     },
     "execution_count": 22,
     "metadata": {},
     "output_type": "execute_result"
    }
   ],
   "source": [
    "a=torch.Tensor([[0,1,2,3],[4,5,6,7]])\n",
    "a.numel()"
   ]
  },
  {
   "cell_type": "code",
   "execution_count": 23,
   "metadata": {},
   "outputs": [
    {
     "data": {
      "text/plain": [
       "\n",
       " 3\n",
       " 2\n",
       " 1\n",
       " 0\n",
       "[torch.FloatTensor of size 4]"
      ]
     },
     "execution_count": 23,
     "metadata": {},
     "output_type": "execute_result"
    }
   ],
   "source": [
    "torch.take(a, torch.LongTensor([3,2,1,0]))"
   ]
  },
  {
   "cell_type": "code",
   "execution_count": 24,
   "metadata": {},
   "outputs": [
    {
     "ename": "RuntimeError",
     "evalue": "invalid argument 2: out of range: 8 out of 8 at /opt/conda/conda-bld/pytorch_1512386481460/work/torch/lib/TH/generic/THTensorMath.c:365",
     "output_type": "error",
     "traceback": [
      "\u001b[0;31m---------------------------------------------------------------------------\u001b[0m",
      "\u001b[0;31mRuntimeError\u001b[0m                              Traceback (most recent call last)",
      "\u001b[0;32m<ipython-input-24-921736bd075d>\u001b[0m in \u001b[0;36m<module>\u001b[0;34m()\u001b[0m\n\u001b[0;32m----> 1\u001b[0;31m \u001b[0mtorch\u001b[0m\u001b[0;34m.\u001b[0m\u001b[0mtake\u001b[0m\u001b[0;34m(\u001b[0m\u001b[0ma\u001b[0m\u001b[0;34m,\u001b[0m \u001b[0mtorch\u001b[0m\u001b[0;34m.\u001b[0m\u001b[0mLongTensor\u001b[0m\u001b[0;34m(\u001b[0m\u001b[0;34m[\u001b[0m\u001b[0;36m3\u001b[0m\u001b[0;34m,\u001b[0m\u001b[0;36m2\u001b[0m\u001b[0;34m,\u001b[0m\u001b[0;36m1\u001b[0m\u001b[0;34m,\u001b[0m\u001b[0;36m0\u001b[0m\u001b[0;34m,\u001b[0m\u001b[0;36m8\u001b[0m\u001b[0;34m]\u001b[0m\u001b[0;34m)\u001b[0m\u001b[0;34m)\u001b[0m\u001b[0;34m\u001b[0m\u001b[0m\n\u001b[0m",
      "\u001b[0;31mRuntimeError\u001b[0m: invalid argument 2: out of range: 8 out of 8 at /opt/conda/conda-bld/pytorch_1512386481460/work/torch/lib/TH/generic/THTensorMath.c:365"
     ]
    }
   ],
   "source": [
    "torch.take(a, torch.LongTensor([3,2,1,0,8]))"
   ]
  },
  {
   "cell_type": "markdown",
   "metadata": {},
   "source": [
    "# torch.where(condition, x, y)\n",
    "> from pytorch version > 0.4\n",
    "\n",
    "condition.size() = x.size() = y.size()\n",
    "condition is a bool tensor, select x[idx] when condition[idx] == true"
   ]
  },
  {
   "cell_type": "code",
   "execution_count": 26,
   "metadata": {},
   "outputs": [
    {
     "name": "stdout",
     "output_type": "stream",
     "text": [
      "\n",
      " 0.5101  0.4367  0.1936  0.1514\n",
      " 0.8488  0.6638  0.0103  0.6608\n",
      " 0.2462  0.9703  0.3884  0.7169\n",
      "[torch.FloatTensor of size 3x4]\n",
      "\n",
      "\n",
      " 0.6235  0.1701  0.2481  0.7301\n",
      " 0.2207  0.4159  0.0333  0.8000\n",
      " 0.4103  0.6599  0.9708  0.1478\n",
      "[torch.FloatTensor of size 3x4]\n",
      "\n"
     ]
    }
   ],
   "source": [
    "x=torch.rand(3,4)\n",
    "y=torch.rand(3,4)\n",
    "print(x)\n",
    "print(y)"
   ]
  },
  {
   "cell_type": "code",
   "execution_count": 28,
   "metadata": {},
   "outputs": [
    {
     "data": {
      "text/plain": [
       "\n",
       " 0  1  0  0\n",
       " 1  1  0  0\n",
       " 0  1  0  1\n",
       "[torch.ByteTensor of size 3x4]"
      ]
     },
     "execution_count": 28,
     "metadata": {},
     "output_type": "execute_result"
    }
   ],
   "source": [
    "condition = x>y\n",
    "condition"
   ]
  },
  {
   "cell_type": "code",
   "execution_count": 29,
   "metadata": {},
   "outputs": [
    {
     "ename": "AttributeError",
     "evalue": "module 'torch' has no attribute 'where'",
     "output_type": "error",
     "traceback": [
      "\u001b[0;31m---------------------------------------------------------------------------\u001b[0m",
      "\u001b[0;31mAttributeError\u001b[0m                            Traceback (most recent call last)",
      "\u001b[0;32m<ipython-input-29-ff36167df2f1>\u001b[0m in \u001b[0;36m<module>\u001b[0;34m()\u001b[0m\n\u001b[0;32m----> 1\u001b[0;31m \u001b[0mtorch\u001b[0m\u001b[0;34m.\u001b[0m\u001b[0mwhere\u001b[0m\u001b[0;34m(\u001b[0m\u001b[0mcondition\u001b[0m\u001b[0;34m,\u001b[0m \u001b[0mx\u001b[0m\u001b[0;34m,\u001b[0m \u001b[0my\u001b[0m\u001b[0;34m)\u001b[0m\u001b[0;34m\u001b[0m\u001b[0m\n\u001b[0m",
      "\u001b[0;31mAttributeError\u001b[0m: module 'torch' has no attribute 'where'"
     ]
    }
   ],
   "source": [
    "torch.where(condition, x, y)"
   ]
  },
  {
   "cell_type": "markdown",
   "metadata": {},
   "source": [
    "# torch.masked_select(input, mask)\n",
    "\n"
   ]
  },
  {
   "cell_type": "code",
   "execution_count": 30,
   "metadata": {},
   "outputs": [
    {
     "name": "stdout",
     "output_type": "stream",
     "text": [
      "\n",
      "-1.2307  0.0439  0.9143 -0.7474\n",
      "-0.3558 -0.4557 -0.8113 -0.1656\n",
      "-1.1665 -0.0178  0.2404  0.7222\n",
      "[torch.FloatTensor of size 3x4]\n",
      "\n",
      "\n",
      " 0  0  1  0\n",
      " 0  0  0  0\n",
      " 0  0  0  1\n",
      "[torch.ByteTensor of size 3x4]\n",
      "\n"
     ]
    }
   ],
   "source": [
    "x=torch.randn(3,4)\n",
    "mask = x.ge(0.5)\n",
    "print(x)\n",
    "print(mask)"
   ]
  },
  {
   "cell_type": "code",
   "execution_count": 31,
   "metadata": {},
   "outputs": [
    {
     "data": {
      "text/plain": [
       "\n",
       " 0.9143\n",
       " 0.7222\n",
       "[torch.FloatTensor of size 2]"
      ]
     },
     "execution_count": 31,
     "metadata": {},
     "output_type": "execute_result"
    }
   ],
   "source": [
    "torch.masked_select(x,mask)"
   ]
  },
  {
   "cell_type": "code",
   "execution_count": 32,
   "metadata": {},
   "outputs": [
    {
     "data": {
      "text/plain": [
       "\n",
       " 0.9143\n",
       " 0.7222\n",
       "[torch.FloatTensor of size 2]"
      ]
     },
     "execution_count": 32,
     "metadata": {},
     "output_type": "execute_result"
    }
   ],
   "source": [
    "x[mask]"
   ]
  },
  {
   "cell_type": "markdown",
   "metadata": {},
   "source": [
    "# Free style"
   ]
  },
  {
   "cell_type": "code",
   "execution_count": 57,
   "metadata": {},
   "outputs": [
    {
     "data": {
      "text/plain": [
       "\n",
       "(0 ,.,.) = \n",
       "  170.0000  110.0000    1.0000  100.0000\n",
       "  180.0000  150.0000    1.0000   62.0000\n",
       "  165.0000   90.0000    0.0000   96.0000\n",
       "\n",
       "(1 ,.,.) = \n",
       "  166.2000   98.2000    1.2000  100.2000\n",
       "  183.2000  140.2000    1.2000   99.2000\n",
       "  162.2000   92.2000    0.2000   97.2000\n",
       "[torch.FloatTensor of size 2x3x4]"
      ]
     },
     "execution_count": 57,
     "metadata": {},
     "output_type": "execute_result"
    }
   ],
   "source": [
    "x=torch.Tensor([\n",
    "    [  # Class 1\n",
    "    #height,weight,male/female,score\n",
    "    [170,110,1,100], # student 1\n",
    "    [180,150,1,62],  #student 2\n",
    "    [165,90,0,96],   #student3\n",
    "],\n",
    "    [  # Class 2, we sppend a small fraction 0.2 to identify it belongs to class 2.\n",
    "        [166.2,98.2,1.2,100.2], # student 4\n",
    "        [183.2,140.2,1.2,99.2], # student 5\n",
    "        [162.2,92.2,0.2,97.2]   # student 6\n",
    "    ]])\n",
    "x"
   ]
  },
  {
   "cell_type": "code",
   "execution_count": 58,
   "metadata": {},
   "outputs": [
    {
     "data": {
      "text/plain": [
       "\n",
       "(0 ,.,.) = \n",
       "  0  1  0  1\n",
       "  1  0  1  0\n",
       "  1  1  1  1\n",
       "[torch.LongTensor of size 1x3x4]"
      ]
     },
     "execution_count": 58,
     "metadata": {},
     "output_type": "execute_result"
    }
   ],
   "source": [
    "index = torch.LongTensor([\n",
    "    [\n",
    "        [0,1,0,1],\n",
    "        [1,0,1,0],\n",
    "        [1,1,1,1]]\n",
    "])\n",
    "index"
   ]
  },
  {
   "cell_type": "code",
   "execution_count": 59,
   "metadata": {},
   "outputs": [
    {
     "data": {
      "text/plain": [
       "\n",
       "(0 ,.,.) = \n",
       "  170.0000   98.2000    1.0000  100.2000\n",
       "  183.2000  150.0000    1.2000   62.0000\n",
       "  162.2000   92.2000    0.2000   97.2000\n",
       "[torch.FloatTensor of size 1x3x4]"
      ]
     },
     "execution_count": 59,
     "metadata": {},
     "output_type": "execute_result"
    }
   ],
   "source": [
    "torch.gather(x, dim = 0, index = index)"
   ]
  },
  {
   "cell_type": "code",
   "execution_count": 60,
   "metadata": {},
   "outputs": [
    {
     "data": {
      "text/plain": [
       "\n",
       "(0 ,.,.) = \n",
       "  1  1\n",
       "  2  2\n",
       "  3  3\n",
       "\n",
       "(1 ,.,.) = \n",
       "  3  3\n",
       "  3  3\n",
       "  3  3\n",
       "[torch.LongTensor of size 2x3x2]"
      ]
     },
     "execution_count": 60,
     "metadata": {},
     "output_type": "execute_result"
    }
   ],
   "source": [
    "index = torch.LongTensor([[[1,1],[2,2],[3,3]],[[3,3],[3,3],[3,3]]])\n",
    "index"
   ]
  },
  {
   "cell_type": "code",
   "execution_count": 61,
   "metadata": {},
   "outputs": [
    {
     "data": {
      "text/plain": [
       "\n",
       "(0 ,.,.) = \n",
       "  110.0000  110.0000\n",
       "    1.0000    1.0000\n",
       "   96.0000   96.0000\n",
       "\n",
       "(1 ,.,.) = \n",
       "  100.2000  100.2000\n",
       "   99.2000   99.2000\n",
       "   97.2000   97.2000\n",
       "[torch.FloatTensor of size 2x3x2]"
      ]
     },
     "execution_count": 61,
     "metadata": {},
     "output_type": "execute_result"
    }
   ],
   "source": [
    "torch.gather(x, dim = 2, index = index)"
   ]
  },
  {
   "cell_type": "code",
   "execution_count": null,
   "metadata": {
    "collapsed": true
   },
   "outputs": [],
   "source": []
  }
 ],
 "metadata": {
  "kernelspec": {
   "display_name": "Python 3",
   "language": "python",
   "name": "python3"
  },
  "language_info": {
   "codemirror_mode": {
    "name": "ipython",
    "version": 3
   },
   "file_extension": ".py",
   "mimetype": "text/x-python",
   "name": "python",
   "nbconvert_exporter": "python",
   "pygments_lexer": "ipython3",
   "version": "3.6.3"
  }
 },
 "nbformat": 4,
 "nbformat_minor": 2
}
