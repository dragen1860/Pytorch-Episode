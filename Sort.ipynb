{
 "cells": [
  {
   "cell_type": "code",
   "execution_count": 23,
   "metadata": {
    "collapsed": true
   },
   "outputs": [],
   "source": [
    "import torch\n",
    "import numpy as np"
   ]
  },
  {
   "cell_type": "code",
   "execution_count": 2,
   "metadata": {
    "collapsed": true
   },
   "outputs": [],
   "source": [
    "a=torch.Tensor([[3,3],[1,1],[4,4],[2,2]])\n",
    "y=torch.Tensor([[3],[1],[4],[2]])"
   ]
  },
  {
   "cell_type": "markdown",
   "metadata": {},
   "source": [
    "## sort by norm of vector/tensor ???\n",
    "# NO\n",
    "the sort will not treat it as a vector/tensor, but will re-arrange the order on other axis\n"
   ]
  },
  {
   "cell_type": "code",
   "execution_count": 19,
   "metadata": {},
   "outputs": [
    {
     "name": "stdout",
     "output_type": "stream",
     "text": [
      "\n",
      " 1  1\n",
      " 2  2\n",
      " 3  3\n",
      " 4  4\n",
      "[torch.FloatTensor of size 4x2]\n",
      "\n",
      "\n",
      " 3  3\n",
      " 1  1\n",
      " 4  4\n",
      " 2  2\n",
      "[torch.FloatTensor of size 4x2]\n",
      "\n"
     ]
    }
   ],
   "source": [
    "sort,indices = torch.sort(a,dim=0)\n",
    "print(sort) # use vector mod to sort\n",
    "sort,indices = torch.sort(a,dim=1) # use scaler to sort\n",
    "print(sort)"
   ]
  },
  {
   "cell_type": "markdown",
   "metadata": {},
   "source": [
    "## how to take advantage of *indices*"
   ]
  },
  {
   "cell_type": "code",
   "execution_count": 4,
   "metadata": {},
   "outputs": [
    {
     "name": "stdout",
     "output_type": "stream",
     "text": [
      "\n",
      " 1\n",
      " 2\n",
      " 3\n",
      " 4\n",
      "[torch.FloatTensor of size 4x1]\n",
      "\n",
      "\n",
      " 1\n",
      " 3\n",
      " 0\n",
      " 2\n",
      "[torch.LongTensor of size 4x1]\n",
      "\n"
     ]
    }
   ],
   "source": [
    "sort,indices = torch.sort(y, dim = 0)\n",
    "print(sort)\n",
    "print(indices)"
   ]
  },
  {
   "cell_type": "code",
   "execution_count": 28,
   "metadata": {},
   "outputs": [
    {
     "name": "stdout",
     "output_type": "stream",
     "text": [
      "x: \n",
      " 5  7  8  7\n",
      " 8  3  1  0\n",
      " 5  5  5  3\n",
      "[torch.LongTensor of size 3x4]\n",
      "\n",
      "sort along dim=1: \n",
      " 5  7  7  8\n",
      " 0  1  3  8\n",
      " 3  5  5  5\n",
      "[torch.LongTensor of size 3x4]\n",
      " indices: \n",
      " 0  1  3  2\n",
      " 3  2  1  0\n",
      " 3  0  1  2\n",
      "[torch.LongTensor of size 3x4]\n",
      "\n",
      "use indices to simulate: \n",
      " 5  7  7  8\n",
      " 0  1  3  8\n",
      " 3  5  5  5\n",
      "[torch.LongTensor of size 3x4]\n",
      "\n"
     ]
    }
   ],
   "source": [
    "x = torch.from_numpy(np.random.randint(10,size=(3,4)))\n",
    "print('x:',x)\n",
    "sorted, indices = torch.sort(x)\n",
    "print('sort along dim=1:',sorted,'indices:',indices)\n",
    "x_ = torch.gather(x,1,indices)\n",
    "print('use indices to simulate:', x_)\n",
    "assert(torch.equal(sorted,x_))"
   ]
  },
  {
   "cell_type": "code",
   "execution_count": 29,
   "metadata": {},
   "outputs": [
    {
     "name": "stdout",
     "output_type": "stream",
     "text": [
      "x: \n",
      " 5  7  8  7\n",
      " 8  3  1  0\n",
      " 5  5  5  3\n",
      "[torch.LongTensor of size 3x4]\n",
      "\n",
      "sort along dim=0: \n",
      " 5  3  1  0\n",
      " 5  5  5  3\n",
      " 8  7  8  7\n",
      "[torch.LongTensor of size 3x4]\n",
      " \n",
      "indices: \n",
      " 0  1  1  1\n",
      " 2  2  2  2\n",
      " 1  0  0  0\n",
      "[torch.LongTensor of size 3x4]\n",
      "\n",
      "use indices to simulate: \n",
      " 5  3  1  0\n",
      " 5  5  5  3\n",
      " 8  7  8  7\n",
      "[torch.LongTensor of size 3x4]\n",
      "\n"
     ]
    }
   ],
   "source": [
    "print('x:',x)\n",
    "sorted, indices = torch.sort(x, 0)\n",
    "print('sort along dim=0:',sorted,'\\nindices:',indices)\n",
    "x_ = torch.gather(x,0,indices)\n",
    "print('use indices to simulate:', x_)\n",
    "assert(torch.equal(sorted,x_))"
   ]
  },
  {
   "cell_type": "code",
   "execution_count": null,
   "metadata": {
    "collapsed": true
   },
   "outputs": [],
   "source": []
  }
 ],
 "metadata": {
  "kernelspec": {
   "display_name": "Python 3",
   "language": "python",
   "name": "python3"
  },
  "language_info": {
   "codemirror_mode": {
    "name": "ipython",
    "version": 3
   },
   "file_extension": ".py",
   "mimetype": "text/x-python",
   "name": "python",
   "nbconvert_exporter": "python",
   "pygments_lexer": "ipython3",
   "version": "3.6.3"
  }
 },
 "nbformat": 4,
 "nbformat_minor": 2
}
